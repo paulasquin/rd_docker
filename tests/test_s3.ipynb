{
 "cells": [
  {
   "cell_type": "markdown",
   "id": "1d346fd5",
   "metadata": {},
   "source": [
    "# S3 Bucket access testing"
   ]
  },
  {
   "cell_type": "code",
   "execution_count": null,
   "id": "2d6f294f",
   "metadata": {},
   "outputs": [],
   "source": [
    "import boto3"
   ]
  },
  {
   "cell_type": "code",
   "execution_count": null,
   "id": "508669f0",
   "metadata": {},
   "outputs": [],
   "source": [
    "BUCKET_NAME = \"kolibree-randd-vault\""
   ]
  },
  {
   "cell_type": "code",
   "execution_count": null,
   "id": "386e235b",
   "metadata": {},
   "outputs": [],
   "source": [
    "s3 = boto3.client('s3')\n",
    "\n",
    "result = s3.get_bucket_acl(Bucket=BUCKET_NAME)\n",
    "print(result)"
   ]
  },
  {
   "cell_type": "code",
   "execution_count": null,
   "id": "9a1d5fd5",
   "metadata": {},
   "outputs": [],
   "source": []
  }
 ],
 "metadata": {
  "kernelspec": {
   "display_name": "Python 3",
   "language": "python",
   "name": "python3"
  },
  "language_info": {
   "codemirror_mode": {
    "name": "ipython",
    "version": 3
   },
   "file_extension": ".py",
   "mimetype": "text/x-python",
   "name": "python",
   "nbconvert_exporter": "python",
   "pygments_lexer": "ipython3",
   "version": "3.8.10"
  }
 },
 "nbformat": 4,
 "nbformat_minor": 5
}
