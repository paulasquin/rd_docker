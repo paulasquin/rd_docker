{
 "cells": [
  {
   "cell_type": "markdown",
   "id": "4997366f",
   "metadata": {},
   "source": [
    "# Import testing"
   ]
  },
  {
   "cell_type": "code",
   "execution_count": null,
   "id": "24b52847",
   "metadata": {},
   "outputs": [],
   "source": [
    "import keras\n",
    "import tensorflow\n",
    "import rd_utils"
   ]
  },
  {
   "cell_type": "code",
   "execution_count": null,
   "id": "599dec71",
   "metadata": {
    "collapsed": true
   },
   "outputs": [],
   "source": []
  }
 ],
 "metadata": {
  "kernelspec": {
   "display_name": "Python 3",
   "language": "python",
   "name": "python3"
  },
  "language_info": {
   "codemirror_mode": {
    "name": "ipython",
    "version": 3
   },
   "file_extension": ".py",
   "mimetype": "text/x-python",
   "name": "python",
   "nbconvert_exporter": "python",
   "pygments_lexer": "ipython3",
   "version": "3.8.10"
  }
 },
 "nbformat": 4,
 "nbformat_minor": 5
}
